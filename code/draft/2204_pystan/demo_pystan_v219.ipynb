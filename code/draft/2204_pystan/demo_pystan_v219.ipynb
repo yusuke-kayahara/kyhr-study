{
  "nbformat": 4,
  "nbformat_minor": 0,
  "metadata": {
    "colab": {
      "name": "demo_pystan_v219.ipynb",
      "provenance": []
    },
    "kernelspec": {
      "name": "python3",
      "display_name": "Python 3"
    },
    "language_info": {
      "name": "python"
    }
  },
  "cells": [
    {
      "cell_type": "code",
      "execution_count": 1,
      "metadata": {
        "id": "IiPTfnkSc9vk"
      },
      "outputs": [],
      "source": [
        "#!pip install pystan==3.3.0"
      ]
    },
    {
      "cell_type": "code",
      "source": [
        "import pystan\n",
        "pystan.__version__"
      ],
      "metadata": {
        "colab": {
          "base_uri": "https://localhost:8080/",
          "height": 35
        },
        "id": "pKYVtnledm5Q",
        "outputId": "29e49094-4c25-48c9-c314-4f77b89bbe2b"
      },
      "execution_count": 6,
      "outputs": [
        {
          "output_type": "execute_result",
          "data": {
            "text/plain": [
              "'2.19.1.1'"
            ],
            "application/vnd.google.colaboratory.intrinsic+json": {
              "type": "string"
            }
          },
          "metadata": {},
          "execution_count": 6
        }
      ]
    },
    {
      "cell_type": "code",
      "source": [
        "%%time\n",
        "import pystan\n",
        "\n",
        "schools_code = \"\"\"\n",
        "data {\n",
        "  int<lower=0> J;         // number of schools\n",
        "  real y[J];              // estimated treatment effects\n",
        "  real<lower=0> sigma[J]; // standard error of effect estimates\n",
        "}\n",
        "parameters {\n",
        "  real mu;                // population treatment effect\n",
        "  real<lower=0> tau;      // standard deviation in treatment effects\n",
        "  vector[J] eta;          // unscaled deviation from mu by school\n",
        "}\n",
        "transformed parameters {\n",
        "  vector[J] theta = mu + tau * eta;        // school treatment effects\n",
        "}\n",
        "model {\n",
        "  target += normal_lpdf(eta | 0, 1);       // prior log-density\n",
        "  target += normal_lpdf(y | theta, sigma); // log-likelihood\n",
        "}\n",
        "\"\"\"\n",
        "\n",
        "schools_data = {\"J\": 8,\n",
        "                \"y\": [28,  8, -3,  7, -1,  1, 18, 12],\n",
        "                \"sigma\": [15, 10, 16, 11,  9, 11, 10, 18]}\n",
        "\n",
        "sm = pystan.StanModel(model_code=schools_code)\n",
        "fit = sm.sampling(data=schools_data, iter=1000, chains=4, seed=1)\n",
        "fit.extract()[\"eta\"]  # array with shape (2000, 8)"
      ],
      "metadata": {
        "colab": {
          "base_uri": "https://localhost:8080/"
        },
        "id": "6xSRDf00dC_c",
        "outputId": "ba69c279-3d11-443a-a9fb-ac2c107f6686"
      },
      "execution_count": 8,
      "outputs": [
        {
          "output_type": "stream",
          "name": "stderr",
          "text": [
            "INFO:pystan:COMPILING THE C++ CODE FOR MODEL anon_model_67cb7d0f2cb7720776cbeb52007d2dbb NOW.\n"
          ]
        },
        {
          "output_type": "stream",
          "name": "stdout",
          "text": [
            "CPU times: user 1.58 s, sys: 134 ms, total: 1.71 s\n",
            "Wall time: 1min 5s\n"
          ]
        }
      ]
    },
    {
      "cell_type": "code",
      "source": [
        "fit"
      ],
      "metadata": {
        "id": "6Zjr4HvTdKQN",
        "colab": {
          "base_uri": "https://localhost:8080/"
        },
        "outputId": "ca7a4b26-dbf3-4640-e6bb-ac49c6acf629"
      },
      "execution_count": 9,
      "outputs": [
        {
          "output_type": "execute_result",
          "data": {
            "text/plain": [
              "Inference for Stan model: anon_model_67cb7d0f2cb7720776cbeb52007d2dbb.\n",
              "4 chains, each with iter=1000; warmup=500; thin=1; \n",
              "post-warmup draws per chain=500, total post-warmup draws=2000.\n",
              "\n",
              "           mean se_mean     sd   2.5%    25%    50%    75%  97.5%  n_eff   Rhat\n",
              "mu         8.09    0.16   4.87  -1.05   4.79   8.02   11.3  18.05    910    1.0\n",
              "tau        6.46     0.2   5.21   0.33   2.58   5.37   8.76  18.87    711    1.0\n",
              "eta[1]     0.38    0.02   0.95  -1.49  -0.25    0.4   1.04   2.11   1866    1.0\n",
              "eta[2]    -0.01    0.02    0.9  -1.76  -0.61 8.3e-3   0.58   1.75   1806    1.0\n",
              "eta[3]    -0.21    0.02   0.94  -2.01  -0.84  -0.23    0.4   1.68   1822    1.0\n",
              "eta[4]    -0.02    0.02   0.87  -1.81  -0.59  -0.03   0.54   1.69   1848    1.0\n",
              "eta[5]    -0.39    0.02   0.88  -2.12  -0.97   -0.4   0.15   1.39   1710    1.0\n",
              "eta[6]    -0.23    0.02   0.88  -1.99  -0.81  -0.21   0.34   1.49   1902    1.0\n",
              "eta[7]     0.34    0.02   0.87  -1.36  -0.22   0.39   0.93   2.02   1814    1.0\n",
              "eta[8]     0.09    0.02    0.9  -1.71  -0.51   0.07   0.73   1.83   2050    1.0\n",
              "theta[1]   11.3    0.21   7.88  -2.25   6.19   10.2  15.38  30.56   1421    1.0\n",
              "theta[2]   7.81    0.13   6.27  -4.05   3.74   7.91  11.66  20.08   2182    1.0\n",
              "theta[3]   6.36    0.18   7.67 -10.14   2.25   6.77  11.05  21.45   1901    1.0\n",
              "theta[4]   7.63    0.14   6.37  -5.85   3.64   7.73  11.76  19.94   2093    1.0\n",
              "theta[5]   5.11    0.15   6.15  -8.72   1.64   5.74   9.37  15.86   1765    1.0\n",
              "theta[6]   6.26    0.14   6.53  -8.41   2.55   6.83  10.37  18.79   2071    1.0\n",
              "theta[7]   10.7    0.18   6.66  -0.87   6.25  10.23  14.39  26.09   1417    1.0\n",
              "theta[8]    8.8    0.17   7.62  -5.62   4.44   8.48  12.64  25.38   1993    1.0\n",
              "lp__     -39.45    0.09   2.49 -44.86 -40.97 -39.28 -37.71 -35.11    704    1.0\n",
              "\n",
              "Samples were drawn using NUTS at Wed Apr 20 14:56:55 2022.\n",
              "For each parameter, n_eff is a crude measure of effective sample size,\n",
              "and Rhat is the potential scale reduction factor on split chains (at \n",
              "convergence, Rhat=1)."
            ]
          },
          "metadata": {},
          "execution_count": 9
        }
      ]
    },
    {
      "cell_type": "code",
      "source": [
        ""
      ],
      "metadata": {
        "id": "-X2ydDoYdN7D"
      },
      "execution_count": null,
      "outputs": []
    }
  ]
}