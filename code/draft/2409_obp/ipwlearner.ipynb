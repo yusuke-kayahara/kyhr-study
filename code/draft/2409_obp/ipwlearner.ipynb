{
 "cells": [
  {
   "cell_type": "markdown",
   "metadata": {},
   "source": [
    "# IPW-Learnerの理解"
   ]
  },
  {
   "cell_type": "markdown",
   "metadata": {},
   "source": [
    "- 概要\n",
    "  - 参考: https://github.com/st-tech/zr-obp/tree/master\n",
    "- インプット\n",
    "  - Context: 共変量\n",
    "  - Action: 行動\n",
    "  - Reward: 報酬\n",
    "  - Propensity: 傾向スコア\n",
    "- 学習\n",
    "  - 下記を分類モデルに学習させる\n",
    "    - X: Context\n",
    "    - Y: Action\n",
    "    - sample_weight: Reward / Propensity   \n",
    "- 予測\n",
    "  - 分類モデルにContextを入力すると、各行動の確率が出力される"
   ]
  },
  {
   "cell_type": "code",
   "execution_count": 108,
   "metadata": {},
   "outputs": [],
   "source": [
    "import numpy as np\n",
    "import pandas as pd\n",
    "from sklearn.linear_model import LogisticRegression\n",
    "from sklearn.ensemble import RandomForestClassifier\n",
    "import matplotlib.pyplot as plt"
   ]
  },
  {
   "cell_type": "markdown",
   "metadata": {},
   "source": [
    "### Case1. 線形効果 + ロジスティック回帰"
   ]
  },
  {
   "cell_type": "markdown",
   "metadata": {},
   "source": [
    "- 設定\n",
    "  - 200人のユーザー\n",
    "  - Train:Test = 5:5\n",
    "  - Treatment:Control = 90%:10%\n",
    "  - 共変量は年齢のみ\n",
    "  - 報酬は100 + 年齢 * action\n",
    "- 期待\n",
    "  - 年齢が高いユーザーをTreatmentとして推奨"
   ]
  },
  {
   "cell_type": "code",
   "execution_count": 109,
   "metadata": {},
   "outputs": [],
   "source": [
    "N = 20000\n",
    "np.random.seed(0)\n",
    "age = np.random.randint(20, 60, N)\n",
    "context = age\n",
    "action = np.random.choice([0, 1], N, p=[1 - treatment_rate, treatment_rate])\n",
    "reward = 100 + age * action\n",
    "treatment_rate = 0.9\n",
    "prpensity = np.where(action == 1, treatment_rate, (1 - treatment_rate))\n",
    "sample_weight = reward / prpensity\n",
    "train_flag = np.random.choice([0, 1], N, p=[0.5, 0.5])"
   ]
  },
  {
   "cell_type": "code",
   "execution_count": 110,
   "metadata": {},
   "outputs": [
    {
     "data": {
      "text/html": [
       "<div>\n",
       "<style scoped>\n",
       "    .dataframe tbody tr th:only-of-type {\n",
       "        vertical-align: middle;\n",
       "    }\n",
       "\n",
       "    .dataframe tbody tr th {\n",
       "        vertical-align: top;\n",
       "    }\n",
       "\n",
       "    .dataframe thead th {\n",
       "        text-align: right;\n",
       "    }\n",
       "</style>\n",
       "<table border=\"1\" class=\"dataframe\">\n",
       "  <thead>\n",
       "    <tr style=\"text-align: right;\">\n",
       "      <th></th>\n",
       "      <th>age</th>\n",
       "      <th>context</th>\n",
       "      <th>reward</th>\n",
       "      <th>action</th>\n",
       "      <th>prpensity</th>\n",
       "      <th>sample_weight</th>\n",
       "      <th>train_flag</th>\n",
       "    </tr>\n",
       "  </thead>\n",
       "  <tbody>\n",
       "    <tr>\n",
       "      <th>0</th>\n",
       "      <td>20</td>\n",
       "      <td>20</td>\n",
       "      <td>120</td>\n",
       "      <td>1</td>\n",
       "      <td>0.9</td>\n",
       "      <td>133.333333</td>\n",
       "      <td>0</td>\n",
       "    </tr>\n",
       "    <tr>\n",
       "      <th>1</th>\n",
       "      <td>23</td>\n",
       "      <td>23</td>\n",
       "      <td>123</td>\n",
       "      <td>1</td>\n",
       "      <td>0.9</td>\n",
       "      <td>136.666667</td>\n",
       "      <td>0</td>\n",
       "    </tr>\n",
       "    <tr>\n",
       "      <th>2</th>\n",
       "      <td>23</td>\n",
       "      <td>23</td>\n",
       "      <td>123</td>\n",
       "      <td>1</td>\n",
       "      <td>0.9</td>\n",
       "      <td>136.666667</td>\n",
       "      <td>0</td>\n",
       "    </tr>\n",
       "    <tr>\n",
       "      <th>3</th>\n",
       "      <td>59</td>\n",
       "      <td>59</td>\n",
       "      <td>159</td>\n",
       "      <td>1</td>\n",
       "      <td>0.9</td>\n",
       "      <td>176.666667</td>\n",
       "      <td>1</td>\n",
       "    </tr>\n",
       "    <tr>\n",
       "      <th>4</th>\n",
       "      <td>29</td>\n",
       "      <td>29</td>\n",
       "      <td>129</td>\n",
       "      <td>1</td>\n",
       "      <td>0.9</td>\n",
       "      <td>143.333333</td>\n",
       "      <td>0</td>\n",
       "    </tr>\n",
       "    <tr>\n",
       "      <th>...</th>\n",
       "      <td>...</td>\n",
       "      <td>...</td>\n",
       "      <td>...</td>\n",
       "      <td>...</td>\n",
       "      <td>...</td>\n",
       "      <td>...</td>\n",
       "      <td>...</td>\n",
       "    </tr>\n",
       "    <tr>\n",
       "      <th>19995</th>\n",
       "      <td>58</td>\n",
       "      <td>58</td>\n",
       "      <td>158</td>\n",
       "      <td>1</td>\n",
       "      <td>0.9</td>\n",
       "      <td>175.555556</td>\n",
       "      <td>1</td>\n",
       "    </tr>\n",
       "    <tr>\n",
       "      <th>19996</th>\n",
       "      <td>24</td>\n",
       "      <td>24</td>\n",
       "      <td>100</td>\n",
       "      <td>0</td>\n",
       "      <td>0.1</td>\n",
       "      <td>1000.000000</td>\n",
       "      <td>0</td>\n",
       "    </tr>\n",
       "    <tr>\n",
       "      <th>19997</th>\n",
       "      <td>53</td>\n",
       "      <td>53</td>\n",
       "      <td>153</td>\n",
       "      <td>1</td>\n",
       "      <td>0.9</td>\n",
       "      <td>170.000000</td>\n",
       "      <td>0</td>\n",
       "    </tr>\n",
       "    <tr>\n",
       "      <th>19998</th>\n",
       "      <td>48</td>\n",
       "      <td>48</td>\n",
       "      <td>148</td>\n",
       "      <td>1</td>\n",
       "      <td>0.9</td>\n",
       "      <td>164.444444</td>\n",
       "      <td>0</td>\n",
       "    </tr>\n",
       "    <tr>\n",
       "      <th>19999</th>\n",
       "      <td>44</td>\n",
       "      <td>44</td>\n",
       "      <td>144</td>\n",
       "      <td>1</td>\n",
       "      <td>0.9</td>\n",
       "      <td>160.000000</td>\n",
       "      <td>0</td>\n",
       "    </tr>\n",
       "  </tbody>\n",
       "</table>\n",
       "<p>20000 rows × 7 columns</p>\n",
       "</div>"
      ],
      "text/plain": [
       "       age  context  reward  action  prpensity  sample_weight  train_flag\n",
       "0       20       20     120       1        0.9     133.333333           0\n",
       "1       23       23     123       1        0.9     136.666667           0\n",
       "2       23       23     123       1        0.9     136.666667           0\n",
       "3       59       59     159       1        0.9     176.666667           1\n",
       "4       29       29     129       1        0.9     143.333333           0\n",
       "...    ...      ...     ...     ...        ...            ...         ...\n",
       "19995   58       58     158       1        0.9     175.555556           1\n",
       "19996   24       24     100       0        0.1    1000.000000           0\n",
       "19997   53       53     153       1        0.9     170.000000           0\n",
       "19998   48       48     148       1        0.9     164.444444           0\n",
       "19999   44       44     144       1        0.9     160.000000           0\n",
       "\n",
       "[20000 rows x 7 columns]"
      ]
     },
     "execution_count": 110,
     "metadata": {},
     "output_type": "execute_result"
    }
   ],
   "source": [
    "# データフレームにまとめる\n",
    "df = pd.DataFrame({\n",
    "  'age': age, \n",
    "  'context': context, \n",
    "  'reward': reward, \n",
    "  'action': action, \n",
    "  'prpensity': prpensity, \n",
    "  'sample_weight': sample_weight, \n",
    "  'train_flag': train_flag\n",
    "})\n",
    "df"
   ]
  },
  {
   "cell_type": "code",
   "execution_count": 111,
   "metadata": {},
   "outputs": [
    {
     "data": {
      "image/png": "[encoded data removed]",
      "text/plain": [
       "<Figure size 640x480 with 1 Axes>"
      ]
     },
     "metadata": {},
     "output_type": "display_data"
    }
   ],
   "source": [
    "# contextとrewardのplot\n",
    "plt.scatter(df.query('action == 1')['age'], df.query('action == 1')['reward'], c='black', label='action=1')\n",
    "plt.scatter(df.query('action == 0')['age'], df.query('action == 0')['reward'], c='grey', label='action=0')\n",
    "plt.xlabel('age')\n",
    "plt.ylabel('reward')\n",
    "plt.legend()\n",
    "plt.show()"
   ]
  },
  {
   "cell_type": "code",
   "execution_count": 112,
   "metadata": {},
   "outputs": [],
   "source": [
    "train_df = df[df['train_flag'] == 1]\n",
    "test_df = df[df['train_flag'] == 0]"
   ]
  },
  {
   "cell_type": "code",
   "execution_count": 113,
   "metadata": {},
   "outputs": [
    {
     "name": "stderr",
     "output_type": "stream",
     "text": [
      "/opt/conda/lib/python3.10/site-packages/sklearn/linear_model/_logistic.py:444: ConvergenceWarning: lbfgs failed to converge (status=1):\n",
      "STOP: TOTAL NO. of ITERATIONS REACHED LIMIT.\n",
      "\n",
      "Increase the number of iterations (max_iter) or scale the data as shown in:\n",
      "    https://scikit-learn.org/stable/modules/preprocessing.html\n",
      "Please also refer to the documentation for alternative solver options:\n",
      "    https://scikit-learn.org/stable/modules/linear_model.html#logistic-regression\n",
      "  n_iter_i = _check_optimize_result(\n",
      "/var/tmp/ipykernel_4198/459830522.py:3: SettingWithCopyWarning: \n",
      "A value is trying to be set on a copy of a slice from a DataFrame.\n",
      "Try using .loc[row_indexer,col_indexer] = value instead\n",
      "\n",
      "See the caveats in the documentation: https://pandas.pydata.org/pandas-docs/stable/user_guide/indexing.html#returning-a-view-versus-a-copy\n",
      "  test_df['pred'] = model.predict(test_df[['context']])\n"
     ]
    }
   ],
   "source": [
    "model = LogisticRegression()\n",
    "model.fit(X = train_df[['context']], y = train_df['reward'], sample_weight = train_df['sample_weight']) \n",
    "test_df['pred'] = model.predict(test_df[['context']])"
   ]
  },
  {
   "cell_type": "code",
   "execution_count": 114,
   "metadata": {},
   "outputs": [
    {
     "data": {
      "text/plain": [
       "age\n",
       "20    0.041883\n",
       "30    0.040683\n",
       "40    0.039386\n",
       "50    0.045359\n",
       "Name: pred, dtype: float64"
      ]
     },
     "execution_count": 114,
     "metadata": {},
     "output_type": "execute_result"
    }
   ],
   "source": [
    "# 年代ごとに予測された介入率を計算\n",
    "test_df['pred'].groupby(test_df['age'] // 10 * 10).mean() / test_df['pred'].groupby(test_df['age'] // 10 * 10).count()"
   ]
  },
  {
   "cell_type": "markdown",
   "metadata": {},
   "source": [
    "### Case2. 非線形効果 + ロジスティック回帰"
   ]
  },
  {
   "cell_type": "markdown",
   "metadata": {},
   "source": [
    "- 設定\n",
    "  - 200人のユーザー\n",
    "  - Train:Test = 5:5\n",
    "  - Treatment:Control = 90%:10%\n",
    "  - 共変量は年齢のみ\n",
    "  - 報酬は下記\n",
    "    - 40歳未満: 100 + 年齢 * action\n",
    "    - 40歳以上: 100 + (80 - 年齢 * action)\n",
    "- 期待\n",
    "  - 40歳を推奨したいが、ロジスティック回帰では表現しきれない？"
   ]
  },
  {
   "cell_type": "code",
   "execution_count": 115,
   "metadata": {},
   "outputs": [],
   "source": [
    "N = 20000\n",
    "np.random.seed(0)\n",
    "age = np.random.randint(20, 60, N)\n",
    "context = age\n",
    "action = np.random.choice([0, 1], N, p=[1 - treatment_rate, treatment_rate])\n",
    "treatment_effect = np.where(age < 40, age, 80 - age)\n",
    "reward = 100 + treatment_effect * action\n",
    "treatment_rate = 0.9\n",
    "prpensity = np.where(action == 1, treatment_rate, (1 - treatment_rate))\n",
    "sample_weight = reward / prpensity\n",
    "train_flag = np.random.choice([0, 1], N, p=[0.5, 0.5])"
   ]
  },
  {
   "cell_type": "code",
   "execution_count": 116,
   "metadata": {},
   "outputs": [
    {
     "data": {
      "text/html": [
       "<div>\n",
       "<style scoped>\n",
       "    .dataframe tbody tr th:only-of-type {\n",
       "        vertical-align: middle;\n",
       "    }\n",
       "\n",
       "    .dataframe tbody tr th {\n",
       "        vertical-align: top;\n",
       "    }\n",
       "\n",
       "    .dataframe thead th {\n",
       "        text-align: right;\n",
       "    }\n",
       "</style>\n",
       "<table border=\"1\" class=\"dataframe\">\n",
       "  <thead>\n",
       "    <tr style=\"text-align: right;\">\n",
       "      <th></th>\n",
       "      <th>age</th>\n",
       "      <th>context</th>\n",
       "      <th>reward</th>\n",
       "      <th>action</th>\n",
       "      <th>prpensity</th>\n",
       "      <th>sample_weight</th>\n",
       "      <th>train_flag</th>\n",
       "    </tr>\n",
       "  </thead>\n",
       "  <tbody>\n",
       "    <tr>\n",
       "      <th>0</th>\n",
       "      <td>20</td>\n",
       "      <td>20</td>\n",
       "      <td>120</td>\n",
       "      <td>1</td>\n",
       "      <td>0.9</td>\n",
       "      <td>133.333333</td>\n",
       "      <td>0</td>\n",
       "    </tr>\n",
       "    <tr>\n",
       "      <th>1</th>\n",
       "      <td>23</td>\n",
       "      <td>23</td>\n",
       "      <td>123</td>\n",
       "      <td>1</td>\n",
       "      <td>0.9</td>\n",
       "      <td>136.666667</td>\n",
       "      <td>0</td>\n",
       "    </tr>\n",
       "    <tr>\n",
       "      <th>2</th>\n",
       "      <td>23</td>\n",
       "      <td>23</td>\n",
       "      <td>123</td>\n",
       "      <td>1</td>\n",
       "      <td>0.9</td>\n",
       "      <td>136.666667</td>\n",
       "      <td>0</td>\n",
       "    </tr>\n",
       "    <tr>\n",
       "      <th>3</th>\n",
       "      <td>59</td>\n",
       "      <td>59</td>\n",
       "      <td>121</td>\n",
       "      <td>1</td>\n",
       "      <td>0.9</td>\n",
       "      <td>134.444444</td>\n",
       "      <td>1</td>\n",
       "    </tr>\n",
       "    <tr>\n",
       "      <th>4</th>\n",
       "      <td>29</td>\n",
       "      <td>29</td>\n",
       "      <td>129</td>\n",
       "      <td>1</td>\n",
       "      <td>0.9</td>\n",
       "      <td>143.333333</td>\n",
       "      <td>0</td>\n",
       "    </tr>\n",
       "    <tr>\n",
       "      <th>...</th>\n",
       "      <td>...</td>\n",
       "      <td>...</td>\n",
       "      <td>...</td>\n",
       "      <td>...</td>\n",
       "      <td>...</td>\n",
       "      <td>...</td>\n",
       "      <td>...</td>\n",
       "    </tr>\n",
       "    <tr>\n",
       "      <th>19995</th>\n",
       "      <td>58</td>\n",
       "      <td>58</td>\n",
       "      <td>122</td>\n",
       "      <td>1</td>\n",
       "      <td>0.9</td>\n",
       "      <td>135.555556</td>\n",
       "      <td>1</td>\n",
       "    </tr>\n",
       "    <tr>\n",
       "      <th>19996</th>\n",
       "      <td>24</td>\n",
       "      <td>24</td>\n",
       "      <td>100</td>\n",
       "      <td>0</td>\n",
       "      <td>0.1</td>\n",
       "      <td>1000.000000</td>\n",
       "      <td>0</td>\n",
       "    </tr>\n",
       "    <tr>\n",
       "      <th>19997</th>\n",
       "      <td>53</td>\n",
       "      <td>53</td>\n",
       "      <td>127</td>\n",
       "      <td>1</td>\n",
       "      <td>0.9</td>\n",
       "      <td>141.111111</td>\n",
       "      <td>0</td>\n",
       "    </tr>\n",
       "    <tr>\n",
       "      <th>19998</th>\n",
       "      <td>48</td>\n",
       "      <td>48</td>\n",
       "      <td>132</td>\n",
       "      <td>1</td>\n",
       "      <td>0.9</td>\n",
       "      <td>146.666667</td>\n",
       "      <td>0</td>\n",
       "    </tr>\n",
       "    <tr>\n",
       "      <th>19999</th>\n",
       "      <td>44</td>\n",
       "      <td>44</td>\n",
       "      <td>136</td>\n",
       "      <td>1</td>\n",
       "      <td>0.9</td>\n",
       "      <td>151.111111</td>\n",
       "      <td>0</td>\n",
       "    </tr>\n",
       "  </tbody>\n",
       "</table>\n",
       "<p>20000 rows × 7 columns</p>\n",
       "</div>"
      ],
      "text/plain": [
       "       age  context  reward  action  prpensity  sample_weight  train_flag\n",
       "0       20       20     120       1        0.9     133.333333           0\n",
       "1       23       23     123       1        0.9     136.666667           0\n",
       "2       23       23     123       1        0.9     136.666667           0\n",
       "3       59       59     121       1        0.9     134.444444           1\n",
       "4       29       29     129       1        0.9     143.333333           0\n",
       "...    ...      ...     ...     ...        ...            ...         ...\n",
       "19995   58       58     122       1        0.9     135.555556           1\n",
       "19996   24       24     100       0        0.1    1000.000000           0\n",
       "19997   53       53     127       1        0.9     141.111111           0\n",
       "19998   48       48     132       1        0.9     146.666667           0\n",
       "19999   44       44     136       1        0.9     151.111111           0\n",
       "\n",
       "[20000 rows x 7 columns]"
      ]
     },
     "execution_count": 116,
     "metadata": {},
     "output_type": "execute_result"
    }
   ],
   "source": [
    "# データフレームにまとめる\n",
    "df = pd.DataFrame({\n",
    "  'age': age, \n",
    "  'context': context, \n",
    "  'reward': reward, \n",
    "  'action': action, \n",
    "  'prpensity': prpensity, \n",
    "  'sample_weight': sample_weight, \n",
    "  'train_flag': train_flag\n",
    "})\n",
    "df"
   ]
  },
  {
   "cell_type": "code",
   "execution_count": 117,
   "metadata": {},
   "outputs": [
    {
     "data": {
      "image/png": "[encoded data removed]",
      "text/plain": [
       "<Figure size 640x480 with 1 Axes>"
      ]
     },
     "metadata": {},
     "output_type": "display_data"
    }
   ],
   "source": [
    "# contextとrewardのplot\n",
    "plt.scatter(df.query('action == 1')['age'], df.query('action == 1')['reward'], c='black', label='action=1')\n",
    "plt.scatter(df.query('action == 0')['age'], df.query('action == 0')['reward'], c='grey', label='action=0')\n",
    "plt.xlabel('age')\n",
    "plt.ylabel('reward')\n",
    "plt.legend()\n",
    "plt.show()"
   ]
  },
  {
   "cell_type": "code",
   "execution_count": 118,
   "metadata": {},
   "outputs": [],
   "source": [
    "train_df = df[df['train_flag'] == 1]\n",
    "test_df = df[df['train_flag'] == 0]"
   ]
  },
  {
   "cell_type": "code",
   "execution_count": 119,
   "metadata": {},
   "outputs": [
    {
     "name": "stderr",
     "output_type": "stream",
     "text": [
      "/opt/conda/lib/python3.10/site-packages/sklearn/linear_model/_logistic.py:444: ConvergenceWarning: lbfgs failed to converge (status=1):\n",
      "STOP: TOTAL NO. of ITERATIONS REACHED LIMIT.\n",
      "\n",
      "Increase the number of iterations (max_iter) or scale the data as shown in:\n",
      "    https://scikit-learn.org/stable/modules/preprocessing.html\n",
      "Please also refer to the documentation for alternative solver options:\n",
      "    https://scikit-learn.org/stable/modules/linear_model.html#logistic-regression\n",
      "  n_iter_i = _check_optimize_result(\n",
      "/var/tmp/ipykernel_4198/459830522.py:3: SettingWithCopyWarning: \n",
      "A value is trying to be set on a copy of a slice from a DataFrame.\n",
      "Try using .loc[row_indexer,col_indexer] = value instead\n",
      "\n",
      "See the caveats in the documentation: https://pandas.pydata.org/pandas-docs/stable/user_guide/indexing.html#returning-a-view-versus-a-copy\n",
      "  test_df['pred'] = model.predict(test_df[['context']])\n"
     ]
    }
   ],
   "source": [
    "model = LogisticRegression()\n",
    "model.fit(X = train_df[['context']], y = train_df['reward'], sample_weight = train_df['sample_weight']) \n",
    "test_df['pred'] = model.predict(test_df[['context']])"
   ]
  },
  {
   "cell_type": "code",
   "execution_count": 120,
   "metadata": {},
   "outputs": [
    {
     "data": {
      "text/plain": [
       "age\n",
       "20    0.040723\n",
       "30    0.040683\n",
       "40    0.039386\n",
       "50    0.040833\n",
       "Name: pred, dtype: float64"
      ]
     },
     "execution_count": 120,
     "metadata": {},
     "output_type": "execute_result"
    }
   ],
   "source": [
    "# 年代ごとに予測された介入率を計算\n",
    "test_df['pred'].groupby(test_df['age'] // 10 * 10).mean() / test_df['pred'].groupby(test_df['age'] // 10 * 10).count()"
   ]
  },
  {
   "cell_type": "markdown",
   "metadata": {},
   "source": [
    "### Case3. 非線形効果 + Random Forest"
   ]
  },
  {
   "cell_type": "markdown",
   "metadata": {},
   "source": [
    "- 設定\n",
    "  - 200人のユーザー\n",
    "  - Train:Test = 5:5\n",
    "  - Treatment:Control = 90%:10%\n",
    "  - 共変量は年齢のみ\n",
    "  - 報酬は下記\n",
    "    - 40歳未満: 100 + (年齢 * action)\n",
    "    - 40歳以上: 100 + (80 - 年齢 * action)\n",
    "- 期待\n",
    "  - 40歳を推奨したいが、非線形回帰では表現しきれない"
   ]
  },
  {
   "cell_type": "code",
   "execution_count": 121,
   "metadata": {},
   "outputs": [],
   "source": [
    "N = 20000\n",
    "np.random.seed(0)\n",
    "age = np.random.randint(20, 60, N)\n",
    "context = age\n",
    "action = np.random.choice([0, 1], N, p=[1 - treatment_rate, treatment_rate])\n",
    "treatment_effect = np.where(age < 40, age, 80 - age)\n",
    "reward = 100 + treatment_effect * action\n",
    "treatment_rate = 0.9\n",
    "prpensity = np.where(action == 1, treatment_rate, (1 - treatment_rate))\n",
    "sample_weight = reward / prpensity\n",
    "train_flag = np.random.choice([0, 1], N, p=[0.5, 0.5])"
   ]
  },
  {
   "cell_type": "code",
   "execution_count": 122,
   "metadata": {},
   "outputs": [
    {
     "data": {
      "text/html": [
       "<div>\n",
       "<style scoped>\n",
       "    .dataframe tbody tr th:only-of-type {\n",
       "        vertical-align: middle;\n",
       "    }\n",
       "\n",
       "    .dataframe tbody tr th {\n",
       "        vertical-align: top;\n",
       "    }\n",
       "\n",
       "    .dataframe thead th {\n",
       "        text-align: right;\n",
       "    }\n",
       "</style>\n",
       "<table border=\"1\" class=\"dataframe\">\n",
       "  <thead>\n",
       "    <tr style=\"text-align: right;\">\n",
       "      <th></th>\n",
       "      <th>age</th>\n",
       "      <th>context</th>\n",
       "      <th>reward</th>\n",
       "      <th>action</th>\n",
       "      <th>prpensity</th>\n",
       "      <th>sample_weight</th>\n",
       "      <th>train_flag</th>\n",
       "    </tr>\n",
       "  </thead>\n",
       "  <tbody>\n",
       "    <tr>\n",
       "      <th>0</th>\n",
       "      <td>20</td>\n",
       "      <td>20</td>\n",
       "      <td>120</td>\n",
       "      <td>1</td>\n",
       "      <td>0.9</td>\n",
       "      <td>133.333333</td>\n",
       "      <td>0</td>\n",
       "    </tr>\n",
       "    <tr>\n",
       "      <th>1</th>\n",
       "      <td>23</td>\n",
       "      <td>23</td>\n",
       "      <td>123</td>\n",
       "      <td>1</td>\n",
       "      <td>0.9</td>\n",
       "      <td>136.666667</td>\n",
       "      <td>0</td>\n",
       "    </tr>\n",
       "    <tr>\n",
       "      <th>2</th>\n",
       "      <td>23</td>\n",
       "      <td>23</td>\n",
       "      <td>123</td>\n",
       "      <td>1</td>\n",
       "      <td>0.9</td>\n",
       "      <td>136.666667</td>\n",
       "      <td>0</td>\n",
       "    </tr>\n",
       "    <tr>\n",
       "      <th>3</th>\n",
       "      <td>59</td>\n",
       "      <td>59</td>\n",
       "      <td>121</td>\n",
       "      <td>1</td>\n",
       "      <td>0.9</td>\n",
       "      <td>134.444444</td>\n",
       "      <td>1</td>\n",
       "    </tr>\n",
       "    <tr>\n",
       "      <th>4</th>\n",
       "      <td>29</td>\n",
       "      <td>29</td>\n",
       "      <td>129</td>\n",
       "      <td>1</td>\n",
       "      <td>0.9</td>\n",
       "      <td>143.333333</td>\n",
       "      <td>0</td>\n",
       "    </tr>\n",
       "    <tr>\n",
       "      <th>...</th>\n",
       "      <td>...</td>\n",
       "      <td>...</td>\n",
       "      <td>...</td>\n",
       "      <td>...</td>\n",
       "      <td>...</td>\n",
       "      <td>...</td>\n",
       "      <td>...</td>\n",
       "    </tr>\n",
       "    <tr>\n",
       "      <th>19995</th>\n",
       "      <td>58</td>\n",
       "      <td>58</td>\n",
       "      <td>122</td>\n",
       "      <td>1</td>\n",
       "      <td>0.9</td>\n",
       "      <td>135.555556</td>\n",
       "      <td>1</td>\n",
       "    </tr>\n",
       "    <tr>\n",
       "      <th>19996</th>\n",
       "      <td>24</td>\n",
       "      <td>24</td>\n",
       "      <td>100</td>\n",
       "      <td>0</td>\n",
       "      <td>0.1</td>\n",
       "      <td>1000.000000</td>\n",
       "      <td>0</td>\n",
       "    </tr>\n",
       "    <tr>\n",
       "      <th>19997</th>\n",
       "      <td>53</td>\n",
       "      <td>53</td>\n",
       "      <td>127</td>\n",
       "      <td>1</td>\n",
       "      <td>0.9</td>\n",
       "      <td>141.111111</td>\n",
       "      <td>0</td>\n",
       "    </tr>\n",
       "    <tr>\n",
       "      <th>19998</th>\n",
       "      <td>48</td>\n",
       "      <td>48</td>\n",
       "      <td>132</td>\n",
       "      <td>1</td>\n",
       "      <td>0.9</td>\n",
       "      <td>146.666667</td>\n",
       "      <td>0</td>\n",
       "    </tr>\n",
       "    <tr>\n",
       "      <th>19999</th>\n",
       "      <td>44</td>\n",
       "      <td>44</td>\n",
       "      <td>136</td>\n",
       "      <td>1</td>\n",
       "      <td>0.9</td>\n",
       "      <td>151.111111</td>\n",
       "      <td>0</td>\n",
       "    </tr>\n",
       "  </tbody>\n",
       "</table>\n",
       "<p>20000 rows × 7 columns</p>\n",
       "</div>"
      ],
      "text/plain": [
       "       age  context  reward  action  prpensity  sample_weight  train_flag\n",
       "0       20       20     120       1        0.9     133.333333           0\n",
       "1       23       23     123       1        0.9     136.666667           0\n",
       "2       23       23     123       1        0.9     136.666667           0\n",
       "3       59       59     121       1        0.9     134.444444           1\n",
       "4       29       29     129       1        0.9     143.333333           0\n",
       "...    ...      ...     ...     ...        ...            ...         ...\n",
       "19995   58       58     122       1        0.9     135.555556           1\n",
       "19996   24       24     100       0        0.1    1000.000000           0\n",
       "19997   53       53     127       1        0.9     141.111111           0\n",
       "19998   48       48     132       1        0.9     146.666667           0\n",
       "19999   44       44     136       1        0.9     151.111111           0\n",
       "\n",
       "[20000 rows x 7 columns]"
      ]
     },
     "execution_count": 122,
     "metadata": {},
     "output_type": "execute_result"
    }
   ],
   "source": [
    "# データフレームにまとめる\n",
    "df = pd.DataFrame({\n",
    "  'age': age, \n",
    "  'context': context, \n",
    "  'reward': reward, \n",
    "  'action': action, \n",
    "  'prpensity': prpensity, \n",
    "  'sample_weight': sample_weight, \n",
    "  'train_flag': train_flag\n",
    "})\n",
    "df"
   ]
  },
  {
   "cell_type": "code",
   "execution_count": 123,
   "metadata": {},
   "outputs": [
    {
     "data": {
      "image/png": "[encoded data removed]",
      "text/plain": [
       "<Figure size 640x480 with 1 Axes>"
      ]
     },
     "metadata": {},
     "output_type": "display_data"
    }
   ],
   "source": [
    "# contextとrewardのplot\n",
    "plt.scatter(df.query('action == 1')['age'], df.query('action == 1')['reward'], c='black', label='action=1')\n",
    "plt.scatter(df.query('action == 0')['age'], df.query('action == 0')['reward'], c='grey', label='action=0')\n",
    "plt.xlabel('age')\n",
    "plt.ylabel('reward')\n",
    "plt.legend()\n",
    "plt.show()"
   ]
  },
  {
   "cell_type": "code",
   "execution_count": 124,
   "metadata": {},
   "outputs": [],
   "source": [
    "train_df = df[df['train_flag'] == 1]\n",
    "test_df = df[df['train_flag'] == 0]"
   ]
  },
  {
   "cell_type": "code",
   "execution_count": 125,
   "metadata": {},
   "outputs": [
    {
     "name": "stderr",
     "output_type": "stream",
     "text": [
      "/var/tmp/ipykernel_4198/3960309345.py:3: SettingWithCopyWarning: \n",
      "A value is trying to be set on a copy of a slice from a DataFrame.\n",
      "Try using .loc[row_indexer,col_indexer] = value instead\n",
      "\n",
      "See the caveats in the documentation: https://pandas.pydata.org/pandas-docs/stable/user_guide/indexing.html#returning-a-view-versus-a-copy\n",
      "  test_df['pred'] = model.predict(test_df[['context']])\n"
     ]
    }
   ],
   "source": [
    "model = RandomForestClassifier()\n",
    "model.fit(X = train_df[['context']], y = train_df['reward'], sample_weight = train_df['sample_weight']) \n",
    "test_df['pred'] = model.predict(test_df[['context']])"
   ]
  },
  {
   "cell_type": "code",
   "execution_count": 126,
   "metadata": {},
   "outputs": [
    {
     "data": {
      "text/plain": [
       "age\n",
       "20    0.048866\n",
       "30    0.054686\n",
       "40    0.053368\n",
       "50    0.051247\n",
       "Name: pred, dtype: float64"
      ]
     },
     "execution_count": 126,
     "metadata": {},
     "output_type": "execute_result"
    }
   ],
   "source": [
    "# 年代ごとに予測された介入率を計算\n",
    "test_df['pred'].groupby(test_df['age'] // 10 * 10).mean() / test_df['pred'].groupby(test_df['age'] // 10 * 10).count()"
   ]
  }
 ],
 "metadata": {
  "kernelspec": {
   "display_name": "base",
   "language": "python",
   "name": "python3"
  },
  "language_info": {
   "codemirror_mode": {
    "name": "ipython",
    "version": 3
   },
   "file_extension": ".py",
   "mimetype": "text/x-python",
   "name": "python",
   "nbconvert_exporter": "python",
   "pygments_lexer": "ipython3",
   "version": "3.10.14"
  }
 },
 "nbformat": 4,
 "nbformat_minor": 2
}
